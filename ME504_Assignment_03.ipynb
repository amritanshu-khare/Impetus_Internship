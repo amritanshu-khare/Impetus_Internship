{
  "cells": [
    {
      "cell_type": "markdown",
      "metadata": {
        "id": "Ex5WUiIeWc8T"
      },
      "source": [
        "##Rough\n"
      ]
    },
    {
      "cell_type": "code",
      "execution_count": null,
      "metadata": {
        "id": "DBLwf4ewDYHr"
      },
      "outputs": [],
      "source": [
        "K = 1  # N/m\n",
        "M = 2  # kg\n",
        "c = 2  # N·s/m\n",
        "\n",
        "\n",
        "# Define the true displacement function\n",
        "#def true_displacement(t,m,k,c):\n",
        "\n",
        "  #d = sqrt(c**2 - m*k)\n",
        "  #l1 = (-c-d)/m\n",
        "  #l2= (-c+d)/m\n",
        "  #print(d)\n",
        "  #return (xi/(2*d))*(e**(l1*t)*(d-c)+ e**(l2*t)*(d+c))\n",
        "\n",
        "def true_displacement(x,M,K,c):\n",
        "    return (1/M) * np.exp(-c*x/(2*M)) * np.sin(np.sqrt(K/M - (c/(2*M))**2) * x)\n",
        "\n",
        "n_sample = 1000\n",
        "\n",
        "x_array=np.linspace(0,100,n_sample)\n",
        "random.shuffle(x_array)\n",
        "\n",
        "y_array=[]\n",
        "for i in x_array:\n",
        "    y_array.append(true_displacement(i,M,K,c))\n",
        "\n",
        "#n_samples = 100\n",
        "#t = np.linspace(0, 1,n_samples).reshape(100, 1)\n",
        "#x = true_displacement(t,m,k,c) #+ np.random.randn(n_samples,1)*0.1"
      ]
    },
    {
      "cell_type": "code",
      "execution_count": null,
      "metadata": {
        "id": "RjiAQExSDgkd"
      },
      "outputs": [],
      "source": [
        "#plt.scatter(x_array,y_array,s=4)\n",
        "plt.plot(x_array, y_array,'b.')\n",
        "#plt.plot(t, x1,'r.')\n",
        "plt.xlabel(\"x\")\n",
        "plt.ylabel(\"y\")\n",
        "plt.show()"
      ]
    },
    {
      "cell_type": "code",
      "execution_count": null,
      "metadata": {
        "id": "K33PK55uUwIJ"
      },
      "outputs": [],
      "source": [
        "data = x_array\n",
        "target = y_array"
      ]
    },
    {
      "cell_type": "markdown",
      "metadata": {
        "id": "Ot1NKeZ6z40c"
      },
      "source": [
        "##Question 2"
      ]
    },
    {
      "cell_type": "code",
      "execution_count": null,
      "metadata": {
        "id": "hM_T37aouTfU"
      },
      "outputs": [],
      "source": [
        "import numpy as np\n",
        "import matplotlib.pyplot as plt\n",
        "from keras.models import Sequential\n",
        "from keras.layers import Dense"
      ]
    },
    {
      "cell_type": "code",
      "execution_count": null,
      "metadata": {
        "id": "Ec1qjJSmQEXB"
      },
      "outputs": [],
      "source": [
        "l = 0.2\n",
        "h = 0.1\n",
        "E = pow(10,7)"
      ]
    },
    {
      "cell_type": "code",
      "execution_count": null,
      "metadata": {
        "id": "UFvuY2IBLnvi"
      },
      "outputs": [],
      "source": [
        "# defining total deflection\n",
        "def total_deflection (F,V,E,l,h):\n",
        "  I = 1/3*h*l*l*l\n",
        "  delta_x = (0.1*V*V*l*l*l*l/(8*E*I)) + (F*l*l*l/(3*E*I))\n",
        "  return delta_x"
      ]
    },
    {
      "cell_type": "code",
      "execution_count": null,
      "metadata": {
        "id": "ziTIxyFOQIhu"
      },
      "outputs": [],
      "source": [
        "# generating training data\n",
        "n_sample_train = 5000\n",
        "F_train = np.random.uniform(low=1, high=10000, size=n_sample_train)\n",
        "V_train = np.random.uniform(low=10, high=5000, size=n_sample_train)\n",
        "X_train = np.empty((n_sample_train,2))\n",
        "for i in range(n_sample_train):\n",
        "  X_train[i][0] = F_train[i]\n",
        "  X_train[i][1] = V_train[i]\n",
        "\n",
        "y_train = total_deflection(F_train,V_train,E,l,h)\n",
        "Y_train = np.empty((n_sample_train))\n",
        "for i in range(n_sample_train):\n",
        "  if 0.05<=y_train[i]<0.3:\n",
        "    Y_train[i] = 1\n",
        "  else : Y_train[i] = 0\n"
      ]
    },
    {
      "cell_type": "code",
      "execution_count": null,
      "metadata": {
        "colab": {
          "base_uri": "https://localhost:8080/"
        },
        "id": "GjZjMVjVhro5",
        "outputId": "f21ecf09-2588-43c7-b826-0c36e6b392e9"
      },
      "outputs": [
        {
          "data": {
            "text/plain": [
              "array([1., 1., 1., ..., 0., 0., 0.])"
            ]
          },
          "execution_count": 9,
          "metadata": {},
          "output_type": "execute_result"
        }
      ],
      "source": [
        "Y_train"
      ]
    },
    {
      "cell_type": "code",
      "execution_count": null,
      "metadata": {
        "colab": {
          "base_uri": "https://localhost:8080/"
        },
        "id": "sY5xi3xNPkPY",
        "outputId": "b5ca14ad-adfa-4d14-daf7-1fbce5bdec8e"
      },
      "outputs": [
        {
          "data": {
            "text/plain": [
              "array([[4055.24898997, 4133.79861255],\n",
              "       [3389.2579699 , 4986.95138737],\n",
              "       [3165.79819609, 3695.03587052],\n",
              "       ...,\n",
              "       [5980.17909302, 2275.90394372],\n",
              "       [8067.26871788,   77.54776795],\n",
              "       [1237.17108924, 1079.98386306]])"
            ]
          },
          "execution_count": 10,
          "metadata": {},
          "output_type": "execute_result"
        }
      ],
      "source": [
        "X_train"
      ]
    },
    {
      "cell_type": "code",
      "execution_count": null,
      "metadata": {
        "colab": {
          "base_uri": "https://localhost:8080/"
        },
        "id": "pJIXFJAKXFJ2",
        "outputId": "ce17443f-8864-43d4-f987-4cd8cf3e662f"
      },
      "outputs": [
        {
          "data": {
            "text/plain": [
              "array([ 972.13152969, 3998.92761971, 1709.33956194, ..., 3117.75235499,\n",
              "       2534.00764828, 3330.43406816])"
            ]
          },
          "execution_count": 39,
          "metadata": {},
          "output_type": "execute_result"
        }
      ],
      "source": [
        "V_train"
      ]
    },
    {
      "cell_type": "code",
      "execution_count": null,
      "metadata": {
        "colab": {
          "base_uri": "https://localhost:8080/"
        },
        "id": "rnxP_7mAXIM1",
        "outputId": "7484a419-cca9-49be-9ce6-3311c5404a79"
      },
      "outputs": [
        {
          "data": {
            "text/plain": [
              "array([2428.85916176, 8114.08654009, 3601.46246918, ...,   32.50787947,\n",
              "       8399.41947798, 7724.97545674])"
            ]
          },
          "execution_count": 40,
          "metadata": {},
          "output_type": "execute_result"
        }
      ],
      "source": [
        "F_train"
      ]
    },
    {
      "cell_type": "code",
      "execution_count": null,
      "metadata": {
        "colab": {
          "base_uri": "https://localhost:8080/"
        },
        "id": "5x27bUG2XnjX",
        "outputId": "41cf86bc-377f-47d4-ba00-caf9e27797bb"
      },
      "outputs": [
        {
          "data": {
            "text/plain": [
              "array([0.03514596, 0.07710077, 0.00178445, ..., 0.02896756, 0.14782919,\n",
              "       0.01490058])"
            ]
          },
          "execution_count": 9,
          "metadata": {},
          "output_type": "execute_result"
        }
      ],
      "source": [
        "y_train"
      ]
    },
    {
      "cell_type": "code",
      "execution_count": null,
      "metadata": {
        "colab": {
          "base_uri": "https://localhost:8080/"
        },
        "id": "03vaz5vGAPOI",
        "outputId": "4ca1f4bc-75f6-4be4-a614-0ba679f29b2c"
      },
      "outputs": [
        {
          "data": {
            "text/plain": [
              "array([0., 1., 0., ..., 0., 1., 0.])"
            ]
          },
          "execution_count": 10,
          "metadata": {},
          "output_type": "execute_result"
        }
      ],
      "source": [
        "Y_train"
      ]
    },
    {
      "cell_type": "code",
      "execution_count": null,
      "metadata": {
        "colab": {
          "base_uri": "https://localhost:8080/"
        },
        "id": "nRCL5zX3_CgL",
        "outputId": "62a230e4-9287-4a19-f6af-c4ba658badee"
      },
      "outputs": [
        {
          "name": "stdout",
          "output_type": "stream",
          "text": [
            "2441 2559\n"
          ]
        }
      ],
      "source": [
        "zeroes = 0\n",
        "ones = 0\n",
        "for i in range(n_sample_train):\n",
        "  if Y_train[i] == 0: zeroes = zeroes+1\n",
        "  else : ones = ones+1\n",
        "\n",
        "print(zeroes,ones)"
      ]
    },
    {
      "cell_type": "code",
      "execution_count": null,
      "metadata": {
        "id": "wiP0j15H2MdT"
      },
      "outputs": [],
      "source": [
        "# generating validation data\n",
        "n_sample_valid = 1500\n",
        "F_valid = np.random.uniform(low=1, high=9000, size=n_sample_valid)\n",
        "V_valid = np.random.uniform(low=10, high=5000, size=n_sample_valid)\n",
        "X_valid = np.empty((n_sample_valid,2))\n",
        "for i in range(n_sample_valid):\n",
        "  X_valid[i][0] = F_valid[i]\n",
        "  X_valid[i][1] = V_valid[i]\n",
        "\n",
        "y_valid = total_deflection(F_valid,V_valid,E,l,h)\n",
        "Y_valid = np.empty((n_sample_valid))\n",
        "for i in range(n_sample_valid):\n",
        "  if 0.05<=y_valid[i]<0.3:\n",
        "    Y_valid[i] = 1\n",
        "  else : Y_valid[i] = 0\n"
      ]
    },
    {
      "cell_type": "code",
      "execution_count": null,
      "metadata": {
        "id": "MryMiaKZYlZl"
      },
      "outputs": [],
      "source": [
        "# generating testing data\n",
        "n_sample_test = 1000\n",
        "F_test = np.random.uniform(low=1, high=10000, size=n_sample_test)\n",
        "V_test = np.random.uniform(low=10, high=5000, size=n_sample_test)\n",
        "X_test = np.empty((n_sample_test,2))\n",
        "for i in range(n_sample_test):\n",
        "  X_test[i][0] = F_test[i]\n",
        "  X_test[i][1] = V_test[i]\n",
        "\n",
        "y_test = total_deflection(F_test,V_test,E,l,h)\n",
        "Y_test = np.empty((n_sample_test))\n",
        "for i in range(n_sample_test):\n",
        "  if 0.05<=y_test[i]<0.3:\n",
        "    Y_test[i] = 1\n",
        "  else : Y_test[i] = 0\n"
      ]
    },
    {
      "cell_type": "code",
      "execution_count": null,
      "metadata": {
        "id": "KAxRxZPFiCKy"
      },
      "outputs": [],
      "source": [
        "# Define the model architecture\n",
        "model = Sequential()\n",
        "model.add(Dense(32, input_dim=2, activation='relu'))\n",
        "model.add(Dense(16, activation='relu'))\n",
        "model.add(Dense(12, activation='relu'))\n",
        "model.add(Dense(14, activation='relu'))\n",
        "model.add(Dense(18, activation='relu'))\n",
        "model.add(Dense(1, activation='sigmoid'))\n"
      ]
    },
    {
      "cell_type": "code",
      "execution_count": null,
      "metadata": {
        "id": "pY0JFmuVmAKc"
      },
      "outputs": [],
      "source": [
        "# Compile the model\n",
        "model.compile(loss='binary_crossentropy', optimizer='adam', metrics=['binary_accuracy'])\n"
      ]
    },
    {
      "cell_type": "code",
      "execution_count": null,
      "metadata": {
        "id": "PlnZEaaLmGus"
      },
      "outputs": [],
      "source": [
        "# Train the model\n",
        "\n",
        "history = model.fit(X_train, Y_train, epochs=200, batch_size=32, validation_data=(X_valid, Y_valid))\n"
      ]
    },
    {
      "cell_type": "code",
      "execution_count": null,
      "metadata": {
        "colab": {
          "base_uri": "https://localhost:8080/"
        },
        "id": "cscVGJ5SmvZY",
        "outputId": "c4eeeb96-ecf5-4601-ca4e-60b033eb19e6"
      },
      "outputs": [
        {
          "name": "stdout",
          "output_type": "stream",
          "text": [
            "32/32 [==============================] - 0s 1ms/step - loss: 0.0343 - binary_accuracy: 0.9920\n",
            "Test loss: 0.034258559346199036\n",
            "Test accuracy: 0.9919999837875366\n"
          ]
        }
      ],
      "source": [
        "# Evaluate the model on the testing data\n",
        "loss, binary_accuracy = model.evaluate(X_test, Y_test)\n",
        "print('Test loss:', loss)\n",
        "print('Test accuracy:', binary_accuracy)"
      ]
    },
    {
      "cell_type": "code",
      "execution_count": null,
      "metadata": {
        "colab": {
          "base_uri": "https://localhost:8080/"
        },
        "id": "OJFeisHChunK",
        "outputId": "1c2b2d25-bfd5-4323-aaa3-802b2b1bb32c"
      },
      "outputs": [
        {
          "data": {
            "text/plain": [
              "array([[7079.83388333, 3036.26026819],\n",
              "       [ 866.74427827, 2736.73497739],\n",
              "       [6704.82963293, 2135.58864713],\n",
              "       ...,\n",
              "       [ 470.80334598, 3640.71044518],\n",
              "       [ 553.83410688, 1071.39523907],\n",
              "       [5368.38041524, 3499.53673608]])"
            ]
          },
          "execution_count": 13,
          "metadata": {},
          "output_type": "execute_result"
        }
      ],
      "source": [
        "X_train"
      ]
    },
    {
      "cell_type": "code",
      "execution_count": null,
      "metadata": {
        "colab": {
          "base_uri": "https://localhost:8080/"
        },
        "id": "YUCbwW4iiFW5",
        "outputId": "4972d200-2cc8-4adb-a782-5860141b3f5b"
      },
      "outputs": [
        {
          "data": {
            "text/plain": [
              "array([0.07622141, 0.05703963, 0.04091037, ..., 0.0998816 , 0.00916299,\n",
              "       0.09721906])"
            ]
          },
          "execution_count": 16,
          "metadata": {},
          "output_type": "execute_result"
        }
      ],
      "source": [
        "y_train"
      ]
    },
    {
      "cell_type": "code",
      "execution_count": null,
      "metadata": {
        "colab": {
          "base_uri": "https://localhost:8080/"
        },
        "id": "H_e1VCa9GBnz",
        "outputId": "c12bad4e-1726-4f40-d8a4-535daf46e9e4"
      },
      "outputs": [
        {
          "name": "stdout",
          "output_type": "stream",
          "text": [
            "1/1 [==============================] - 0s 63ms/step\n"
          ]
        },
        {
          "data": {
            "text/plain": [
              "array([[0.9982186]], dtype=float32)"
            ]
          },
          "execution_count": 48,
          "metadata": {},
          "output_type": "execute_result"
        }
      ],
      "source": [
        "model.predict([[7079.83388333, 3036.26026819]])#,[866.74427827, 2736.73497739]])"
      ]
    },
    {
      "cell_type": "code",
      "execution_count": null,
      "metadata": {
        "id": "27S7U__Ox0DU"
      },
      "outputs": [],
      "source": [
        "from sklearn.preprocessing import FunctionTransformer\n",
        "transformer = FunctionTransformer()"
      ]
    },
    {
      "cell_type": "code",
      "execution_count": null,
      "metadata": {
        "id": "pIpEi1etUaeU"
      },
      "outputs": [],
      "source": [
        "import pickle\n",
        "\n",
        "pickle.dump(model, open('model.pkl', 'wb')) #Saving the model\n",
        "model_pkd = pickle.load(open('model.pkl', 'rb')) #To load saved model from local directory"
      ]
    },
    {
      "cell_type": "code",
      "execution_count": null,
      "metadata": {
        "colab": {
          "base_uri": "https://localhost:8080/"
        },
        "id": "9257YtZ0Xwt-",
        "outputId": "7d344c07-cee1-4a06-98d2-67b2842efc85"
      },
      "outputs": [
        {
          "name": "stdout",
          "output_type": "stream",
          "text": [
            "32/32 [==============================] - 0s 979us/step - loss: 0.0343 - binary_accuracy: 0.9920\n",
            "Test loss: 0.034258559346199036\n",
            "Test accuracy: 0.9919999837875366\n"
          ]
        }
      ],
      "source": [
        "model_pkd\n",
        "loss_pkd, binary_accuracy_pkd = model_pkd.evaluate(X_test, Y_test)\n",
        "print('Test loss:', loss_pkd)\n",
        "print('Test accuracy:', binary_accuracy_pkd)"
      ]
    },
    {
      "cell_type": "code",
      "execution_count": null,
      "metadata": {
        "colab": {
          "base_uri": "https://localhost:8080/"
        },
        "id": "rM_RVTerGUyi",
        "outputId": "e6a608e4-7e50-491a-ea20-b7d3f2a6793f"
      },
      "outputs": [
        {
          "data": {
            "text/plain": [
              "numpy.ndarray"
            ]
          },
          "execution_count": 33,
          "metadata": {},
          "output_type": "execute_result"
        }
      ],
      "source": [
        "type(X_test)"
      ]
    },
    {
      "cell_type": "code",
      "execution_count": null,
      "metadata": {
        "id": "Pe1sdeSxFsl2"
      },
      "outputs": [],
      "source": [
        "model_pkd.predict(X_test)"
      ]
    },
    {
      "cell_type": "code",
      "execution_count": null,
      "metadata": {
        "colab": {
          "base_uri": "https://localhost:8080/",
          "height": 472
        },
        "id": "VOfy0iOi88qn",
        "outputId": "b60efccc-263f-4995-904c-9fff204b3cc9"
      },
      "outputs": [
        {
          "data": {
            "image/png": "[encoded data removed]",
            "text/plain": [
              "<Figure size 640x480 with 1 Axes>"
            ]
          },
          "metadata": {},
          "output_type": "display_data"
        }
      ],
      "source": [
        "# Get training and test loss histories\n",
        "training_loss = history.history['loss']\n",
        "valid_loss = history.history['val_loss']\n",
        "\n",
        "# Create count of the number of epochs\n",
        "epoch_count = range(1, len(training_loss) + 1)\n",
        "\n",
        "# Visualize loss history\n",
        "plt.plot(epoch_count, training_loss, 'r--')\n",
        "plt.plot(epoch_count, valid_loss, 'b-')\n",
        "plt.legend(['Training loss', 'Validation loss'])\n",
        "plt.title('Training and Validation loss vs Epochs')\n",
        "plt.xlabel('Epoch')\n",
        "plt.ylabel('Loss')\n",
        "plt.show();"
      ]
    },
    {
      "cell_type": "code",
      "execution_count": null,
      "metadata": {
        "colab": {
          "base_uri": "https://localhost:8080/",
          "height": 465
        },
        "id": "MQVxJ3mWu6ae",
        "outputId": "96eaa5d8-d25b-4be1-9883-fbf94991d8d0"
      },
      "outputs": [
        {
          "name": "stdout",
          "output_type": "stream",
          "text": [
            "32/32 [==============================] - 0s 1ms/step\n"
          ]
        },
        {
          "data": {
            "text/plain": [
              "<Axes: >"
            ]
          },
          "execution_count": 20,
          "metadata": {},
          "output_type": "execute_result"
        },
        {
          "data": {
            "image/png": "[encoded data removed]",
            "text/plain": [
              "<Figure size 640x480 with 2 Axes>"
            ]
          },
          "metadata": {},
          "output_type": "display_data"
        }
      ],
      "source": [
        "# Generate confusion matrix\n",
        "y_pred = (model.predict(X_test) > 0.5).astype(\"int32\")\n",
        "from sklearn.metrics import confusion_matrix, classification_report\n",
        "import seaborn as sns\n",
        "cm = confusion_matrix(Y_test, y_pred)\n",
        "sns.heatmap(cm,annot=True)\n"
      ]
    },
    {
      "cell_type": "code",
      "execution_count": null,
      "metadata": {
        "colab": {
          "base_uri": "https://localhost:8080/",
          "height": 581
        },
        "id": "iUPQ2fwlvAo0",
        "outputId": "f55b62b4-8f3d-464c-ecf1-f041dc1267c3"
      },
      "outputs": [
        {
          "name": "stdout",
          "output_type": "stream",
          "text": [
            "32/32 [==============================] - 0s 3ms/step\n"
          ]
        },
        {
          "data": {
            "image/png": "[encoded data removed]",
            "text/plain": [
              "<Figure size 600x600 with 1 Axes>"
            ]
          },
          "metadata": {},
          "output_type": "display_data"
        }
      ],
      "source": [
        "y_pred = np.squeeze(model.predict(X_test)>=0.5).astype(int)\n",
        "cm = confusion_matrix(Y_test, y_pred, labels=[0,1])\n",
        "#clr = classification_report(Y_test, y_pred, labels=[0,1], target_names = [\"Not Working\", \"Working\"])\n",
        "\n",
        "plt.figure(figsize = (6,6))\n",
        "sns.heatmap(cm, annot=True, fmt='g', vmin = 0, cmap = 'Blues', cbar = False)\n",
        "plt.xticks(ticks = [0.5,1.5], labels=[\"Not working\", \"Working\"])\n",
        "plt.yticks(ticks = [0.5,1.5], labels=[\"Not Working\", \"Working\"])\n",
        "plt.xlabel('predicted')\n",
        "plt.ylabel('Actual')\n",
        "plt.title('Confusion Matrix')\n",
        "\n",
        "plt.show()\n",
        "#print(\"Classification Report:\\n------------------\\n\", clr)"
      ]
    },
    {
      "cell_type": "code",
      "execution_count": null,
      "metadata": {
        "id": "G5n9kfWjx8LC"
      },
      "outputs": [],
      "source": [
        "!pip install mlflow\n"
      ]
    },
    {
      "cell_type": "code",
      "execution_count": null,
      "metadata": {
        "id": "B8D4o-5mGice"
      },
      "outputs": [],
      "source": [
        "!mlflow"
      ]
    },
    {
      "cell_type": "code",
      "execution_count": null,
      "metadata": {
        "id": "KLvK459EHLBP"
      },
      "outputs": [],
      "source": [
        "import mlflow\n",
        "import mlflow.sklearn"
      ]
    },
    {
      "cell_type": "code",
      "execution_count": null,
      "metadata": {
        "colab": {
          "background_save": true
        },
        "id": "SxEEt_-eHyVe"
      },
      "outputs": [],
      "source": [
        "with mlflow.start_run():\n",
        "  model.compile(loss='binary_crossentropy', optimizer='adam', metrics=['binary_accuracy'])\n",
        "  history = model.fit(X_train, Y_train, epochs=200, batch_size=32, validation_data=(X_valid, Y_valid))\n",
        "\n",
        "  loss, binary_accuracy = model.evaluate(X_test, Y_test)\n",
        "\n",
        "  print('Test loss:', loss)\n",
        "  print('Test accuracy:', binary_accuracy)\n",
        "\n",
        "  #mlflow.log_param(\"optimizer\",optimizer)\n",
        "  mlflow.log_param(\"loss\",loss)\n",
        "  mlflow.log_metric(\"binary_accuracy\",binary_accuracy)\n",
        "  mlflow.sklearn.log_model(model,\"model\")\n",
        "\n",
        "\n"
      ]
    },
    {
      "cell_type": "markdown",
      "metadata": {
        "id": "8HYX6YQL0B8Q"
      },
      "source": [
        "##Question 1"
      ]
    },
    {
      "cell_type": "code",
      "execution_count": null,
      "metadata": {
        "id": "ojobyvHNDlji"
      },
      "outputs": [],
      "source": [
        "import numpy as np\n",
        "import matplotlib.pyplot as plt\n",
        "import math\n",
        "import random"
      ]
    },
    {
      "cell_type": "code",
      "execution_count": null,
      "metadata": {
        "id": "uLGgZmtBWi8z"
      },
      "outputs": [],
      "source": [
        "K = 20  # N/m\n",
        "M = 2  # kg\n",
        "c = 2  # N·s/m\n",
        "\n",
        "# Define the true displacement function\n",
        "# function of underdamped condition taken from \"https://math.libretexts.org/Bookshelves/Linear_Algebra/Book%3A_Matrix_Analysis_(Cox)/10%3A_The_Matrix_Exponential/10.06%3A_The_Mass-Spring-Damper_System\"\n",
        "# value of d was calculated to be 6i for given values of K,m,c. So |d| is 6.\n",
        "def true_displacement(t):\n",
        "    return np.exp(-c*t)*(np.cos(6*t)+c*6*np.sin(6*t))\n",
        "\n",
        "# Generate the data for training the regression model\n",
        "n_samples = 500\n",
        "X = np.linspace(0, 2*np.pi, n_samples)\n",
        "y = true_displacement(X) + np.random.randn(n_samples)*0.1\n"
      ]
    },
    {
      "cell_type": "code",
      "execution_count": null,
      "metadata": {
        "id": "I8pIGMT7gd8E"
      },
      "outputs": [],
      "source": [
        "target"
      ]
    },
    {
      "cell_type": "code",
      "execution_count": null,
      "metadata": {
        "colab": {
          "base_uri": "https://localhost:8080/",
          "height": 472
        },
        "id": "Cgzz5-ewWxdj",
        "outputId": "090d78f2-3613-46ee-b332-e97a3499b22a"
      },
      "outputs": [
        {
          "data": {
            "image/png": "[encoded data removed]",
            "text/plain": [
              "<Figure size 640x480 with 1 Axes>"
            ]
          },
          "metadata": {},
          "output_type": "display_data"
        }
      ],
      "source": [
        "plt.plot(data, target,'b.',label='Calculated Value')\n",
        "\n",
        "#plt.plot(t, x1,'r.')\n",
        "plt.title(\"Displacement v/s Time for underdamped system\")\n",
        "plt.xlabel(\"Time\")\n",
        "plt.ylabel(\"Displacement\")\n",
        "plt.show()"
      ]
    },
    {
      "cell_type": "code",
      "execution_count": null,
      "metadata": {
        "id": "HEjtHdgYXvdl"
      },
      "outputs": [],
      "source": [
        "data = X\n",
        "target = y"
      ]
    },
    {
      "cell_type": "code",
      "execution_count": null,
      "metadata": {
        "colab": {
          "base_uri": "https://localhost:8080/",
          "height": 91
        },
        "id": "3osR0nwj-u2j",
        "outputId": "fde472dd-05e5-41fe-b45c-a1467f75d1ac"
      },
      "outputs": [
        {
          "data": {
            "application/vnd.google.colaboratory.intrinsic+json": {
              "type": "string"
            },
            "text/plain": [
              "'\\nfrom sklearn.preprocessing import StandardScaler\\nmask=0\\nif flag!=0:\\n  gate=0\\nscaled=StandardScaler()\\nif gate!=0:\\n  mask=0\\nscaled.fit(X_train)\\nif mask!=0:\\n  gate=0\\nX_train=scaled.transform(X_train)\\nif gate!=0 and mask!=0:\\n  gate=0 \\n  mask=0\\n# standardizing y\\nscaled_2=StandardScaler()\\nif gate==0 and mask!=0 and flag==0:\\n  gate=0\\n  mask=0\\n  flag=0\\nelif gate!=0 and mask==0:\\n  mask=0\\n  gate=0\\n\\nscaled_2.fit(y_train)\\n\\ny_train=scaled_2.transform(y_train)\\nif mask==0:\\n  while(flag!=0):\\n    flag=0\\nX_test=scaled.transform(X_test)\\nwhile(flag!=0):\\n  flag=0\\n  while(mask!=0):\\n    mask=0\\ny_test=scaled_2.transform(y_test)'"
            ]
          },
          "execution_count": 87,
          "metadata": {},
          "output_type": "execute_result"
        }
      ],
      "source": [
        "# Standardize and Splitting Dataset\n",
        "from sklearn.model_selection import train_test_split\n",
        "flag=0\n",
        "gate=0\n",
        "# X_train, X_test, y_train, y_test = train_test_split(data, target, test_size=0.2, random_state = 0)\n",
        "\n",
        "# standardizing using sklearn\n",
        "'''\n",
        "from sklearn.preprocessing import StandardScaler\n",
        "mask=0\n",
        "if flag!=0:\n",
        "  gate=0\n",
        "scaled=StandardScaler()\n",
        "if gate!=0:\n",
        "  mask=0\n",
        "scaled.fit(X_train)\n",
        "if mask!=0:\n",
        "  gate=0\n",
        "X_train=scaled.transform(X_train)\n",
        "if gate!=0 and mask!=0:\n",
        "  gate=0\n",
        "  mask=0\n",
        "# standardizing y\n",
        "scaled_2=StandardScaler()\n",
        "if gate==0 and mask!=0 and flag==0:\n",
        "  gate=0\n",
        "  mask=0\n",
        "  flag=0\n",
        "elif gate!=0 and mask==0:\n",
        "  mask=0\n",
        "  gate=0\n",
        "\n",
        "scaled_2.fit(y_train)\n",
        "\n",
        "y_train=scaled_2.transform(y_train)\n",
        "if mask==0:\n",
        "  while(flag!=0):\n",
        "    flag=0\n",
        "X_test=scaled.transform(X_test)\n",
        "while(flag!=0):\n",
        "  flag=0\n",
        "  while(mask!=0):\n",
        "    mask=0\n",
        "y_test=scaled_2.transform(y_test)'''\n"
      ]
    },
    {
      "cell_type": "code",
      "execution_count": null,
      "metadata": {
        "id": "Z1v-Fznx0BoN"
      },
      "outputs": [],
      "source": [
        "# Define Abstract class\n",
        "class Layer:\n",
        "  def __init__(self):\n",
        "        self.input = None\n",
        "        self.output = None\n",
        "\n",
        "# Activation Layer (ReLU)\n",
        "\n",
        "class ActivationLayer(Layer):\n",
        "    def __init__(self, activation, activation_prime):\n",
        "        self.activation = activation\n",
        "        self.activation_prime = activation_prime\n",
        "    # Forward Propagation\n",
        "    def backward(self, output_gradient, learning_rate):\n",
        "        return np.multiply(output_gradient, self.activation_prime(self.input))\n",
        "    def forward(self, input):\n",
        "        self.input = input\n",
        "        return self.activation(self.input)\n",
        "\n",
        "\n",
        "\n",
        "\n",
        "# Define Fully connected Layer\n",
        "class FCLayer(Layer):\n",
        "\n",
        "  def __init__(self, input_size, output_size):\n",
        "\n",
        "        self.bias = np.random.randn(output_size, 1)\n",
        "        self.weights = np.random.randn(output_size, input_size)\n",
        "\n",
        "# Backward Propagation\n",
        "  def backward(self, output_gradient, learning_rate):\n",
        "        weights_gradient = np.dot(output_gradient, self.input.T)\n",
        "        temp = np.dot(self.weights.T, output_gradient)\n",
        "        self.weights -= learning_rate * weights_gradient\n",
        "        self.bias -= learning_rate * output_gradient\n",
        "        return temp\n",
        "\n",
        "  # Forward Propagation\n",
        "  def forward(self, input):\n",
        "        self.input = input\n",
        "        return np.dot(self.weights, self.input) + self.bias\n",
        "\n",
        "\n",
        "class Relu(ActivationLayer):\n",
        "    def __init__(self):\n",
        "      def relu_prime(x):\n",
        "        return np.array(x >= 0).astype('int')\n",
        "\n",
        "      def relu(x):\n",
        "        return np.maximum(0,x)\n",
        "\n",
        "\n",
        "      super().__init__(relu, relu_prime)\n",
        "\n",
        "class LeakyRelu(ActivationLayer):\n",
        "    def __init__(self):\n",
        "      def leaky_relu_prime(x):\n",
        "        return np.where(x <= 0, 0.01, 1)\n",
        "\n",
        "      def leaky_relu(x):\n",
        "        return np.where(x < 0, 0.01*x, x)\n",
        "\n",
        "\n",
        "      super().__init__(leaky_relu, leaky_relu_prime)\n",
        "\n",
        "# Define activation function and its derivative\n",
        "class Sigmoid(ActivationLayer):\n",
        "    def __init__(self):\n",
        "      def sigmoid_prime(x):\n",
        "            y = sigmoid(x)\n",
        "            return y * (1 - y)\n",
        "\n",
        "      def sigmoid(x):\n",
        "            return 1 / (1 + np.exp(-x))\n",
        "\n",
        "\n",
        "      super().__init__(sigmoid, sigmoid_prime)\n",
        "# class for tanh activation function\n",
        "class Tanh(ActivationLayer):\n",
        "    def __init__(self):\n",
        "        def tanh_prime(x):\n",
        "            return 1 - np.tanh(x) ** 2\n",
        "        def tanh(x):\n",
        "            return np.tanh(x)\n",
        "\n",
        "\n",
        "\n",
        "        super().__init__(tanh, tanh_prime)"
      ]
    },
    {
      "cell_type": "code",
      "execution_count": null,
      "metadata": {
        "id": "Ohx5sU2M9izV"
      },
      "outputs": [],
      "source": [
        "# Define Loss function (Use mean square error)\n",
        "# mean sqaured error\n",
        "class MSE():\n",
        "  def __init__(self):\n",
        "    pass\n",
        "\n",
        "  def loss(y_true, y_pred):\n",
        "    return np.mean(np.power(y_true - y_pred, 2))\n",
        "\n",
        "# derivative of mean squared error\n",
        "  def loss_prime(y_true, y_pred):\n",
        "    return 2 * (y_pred - y_true) / np.size(y_true)\n",
        "\n"
      ]
    },
    {
      "cell_type": "code",
      "execution_count": null,
      "metadata": {
        "id": "UB8GM00F947Z"
      },
      "outputs": [],
      "source": []
    },
    {
      "cell_type": "code",
      "execution_count": null,
      "metadata": {
        "id": "ooFYiPco9oLd"
      },
      "outputs": [],
      "source": [
        "# Training Network\n",
        "# struct\n",
        "from sklearn.metrics import r2_score\n",
        "\n",
        "Error=[]\n",
        "\n",
        "#function to predict\n",
        "def predict(network, input):\n",
        "    #print(input)\n",
        "    output = input\n",
        "    for layer in network:\n",
        "        output = layer.forward(output)\n",
        "    return output\n",
        "lamda=0\n",
        "# main training function\n",
        "def train(network, loss, x_train, y_train, epochs = 1000, learning_rate = 0.01, verbose = True, stochastic=False,batch_size=1):\n",
        "    for e in range(epochs):\n",
        "        Output=[]\n",
        "        flag=0\n",
        "        error = 0\n",
        "        king=0\n",
        "        grad_mean=0\n",
        "        zoro=0\n",
        "        count=0\n",
        "        len11=len(x_train)\n",
        "        idx=0\n",
        "        for x, y in zip(x_train, y_train):\n",
        "            # forward\n",
        "\n",
        "            output = predict(network, x)\n",
        "            while(king>0):\n",
        "              if(flag>0):\n",
        "                flag=0\n",
        "              king=0\n",
        "            if(king!=0):\n",
        "              lamda=0\n",
        "            Output.append(output)\n",
        "            while(king>0):\n",
        "              if(flag>0):\n",
        "                flag=0\n",
        "              king=0\n",
        "\n",
        "            # error\n",
        "            error += loss.loss(y, output)\n",
        "            while(king>0):\n",
        "              if(flag>0):\n",
        "                flag=0\n",
        "              king=0\n",
        "            if(king!=0):\n",
        "              lamda=0\n",
        "\n",
        "\n",
        "            # backward\n",
        "            grad = loss.loss_prime(y, output)\n",
        "            while(king>0):\n",
        "              if(flag>0):\n",
        "                flag=0\n",
        "              king=0\n",
        "            if(king!=0):\n",
        "              lamda=0\n",
        "            count+=1\n",
        "            while(king>0):\n",
        "              if(flag>0):\n",
        "                flag=0\n",
        "              king=0\n",
        "            grad_mean+=grad\n",
        "            while(king>0):\n",
        "              if(flag>0):\n",
        "                flag=0\n",
        "              king=0\n",
        "            if(king!=0):\n",
        "              lamda=0\n",
        "\n",
        "            if stochastic==False:\n",
        "              if count==batch_size or idx==len11-1:\n",
        "                count=0\n",
        "                grad_mean=grad_mean/batch_size\n",
        "                for layer in reversed(network):\n",
        "                  grad_mean = layer.backward(grad_mean,learning_rate)\n",
        "              grad_mean=0\n",
        "\n",
        "\n",
        "            else :\n",
        "              for layer in reversed(network):\n",
        "                  grad = layer.backward(grad,learning_rate)\n",
        "\n",
        "\n",
        "            idx+=1\n",
        "        error /= len(x_train)\n",
        "\n",
        "        Error.append(error)\n",
        "\n",
        "        if verbose:\n",
        "            if e%50==0 :\n",
        "              print(f\"{e + 1}/{epochs}, error={error}\")\n",
        "\n",
        "# resizing input to fit in the model\n",
        "\n",
        "\n",
        "## Make a function\n",
        "\n"
      ]
    },
    {
      "cell_type": "code",
      "execution_count": null,
      "metadata": {
        "id": "Y4mhb-umZjZU"
      },
      "outputs": [],
      "source": [
        "# X_train"
      ]
    },
    {
      "cell_type": "code",
      "execution_count": null,
      "metadata": {
        "id": "UpNSwip6Zzja"
      },
      "outputs": [],
      "source": [
        "# def resize(X,y):\n",
        "#   mask=0\n",
        "#   king=0\n",
        "#   zoro=0\n",
        "#   print(X.shape)\n",
        "#   len1,len2=X.shape\n",
        "\n",
        "#   X_list=X\n",
        "\n",
        "#   X_list=np.reshape(X_list,(len1,len2,1))\n",
        "\n",
        "#   len3,len4=y.shape\n",
        "\n",
        "#   y_list=y\n",
        "#   y_list=np.reshape(y_list,(len3,len4,1))\n",
        "\n",
        "#   return (X_list,y_list)\n"
      ]
    },
    {
      "cell_type": "code",
      "execution_count": null,
      "metadata": {
        "id": "9qgDxglkZJRt"
      },
      "outputs": [],
      "source": [
        "X_train_list,y_train_list=(data,target)"
      ]
    },
    {
      "cell_type": "code",
      "execution_count": null,
      "metadata": {
        "id": "bU22yvmi84dh"
      },
      "outputs": [],
      "source": [
        "def plot_the_curve(index,Error,lr):\n",
        "  plt.plot(indx,Error)\n",
        "  plt.title('Loss with Learning rate '+str(lr))\n",
        "  plt.ylabel('Loss')\n",
        "  plt.xlabel('epochs')\n",
        "  plt.legend(['Loss'],loc='upper left')\n",
        "  plt.show()\n",
        "# plot_the_curve(indx,Error,0.15)"
      ]
    },
    {
      "cell_type": "code",
      "execution_count": null,
      "metadata": {
        "colab": {
          "base_uri": "https://localhost:8080/"
        },
        "id": "tLx352bm-gHV",
        "outputId": "28033ea0-b01b-4363-d65d-65f58aed8b3c"
      },
      "outputs": [
        {
          "name": "stdout",
          "output_type": "stream",
          "text": [
            "1/1000, error=0.37647645270119207\n",
            "51/1000, error=0.053678909311444006\n",
            "101/1000, error=0.04566051251350425\n",
            "151/1000, error=0.040070357757493534\n",
            "201/1000, error=0.03435986475481521\n",
            "251/1000, error=0.03304393393842137\n",
            "301/1000, error=0.02618833755336039\n",
            "351/1000, error=0.024172431026699706\n",
            "401/1000, error=0.022698372248371908\n",
            "451/1000, error=0.022233957898549005\n",
            "501/1000, error=0.021919249367746495\n",
            "551/1000, error=0.022291414208343664\n",
            "601/1000, error=0.021254330091265535\n",
            "651/1000, error=0.021857066078806338\n",
            "701/1000, error=0.021613735979376093\n",
            "751/1000, error=0.02114539628591745\n",
            "801/1000, error=0.02083253991263813\n",
            "851/1000, error=0.02053573449724367\n",
            "901/1000, error=0.0200173217102308\n",
            "951/1000, error=0.020353419244156963\n"
          ]
        }
      ],
      "source": [
        "network = [\n",
        "    FCLayer(1,28),\n",
        "    LeakyRelu(),\n",
        "    # FCLayer(32,32),\n",
        "    # LeakyRelu(),\n",
        "    FCLayer(28,20),\n",
        "    LeakyRelu(),\n",
        "    FCLayer(20,10),\n",
        "    LeakyRelu(),\n",
        "    FCLayer(10,5),\n",
        "    LeakyRelu(),\n",
        "    # FCLayer(16,32),\n",
        "    # Relu(),\n",
        "    FCLayer(5,1),\n",
        "    # Relu(),\n",
        "    # FCLayer(4,1),\n",
        "    # Relu()\n",
        "\n",
        "\n",
        "]\n",
        "Error=[]\n",
        "train(network, MSE, X_train_list, y_train_list, epochs=1000, learning_rate=0.0015,stochastic=True,batch_size=1)\n",
        "indx=[]\n",
        "for i in range((len(Error))):\n",
        "  indx.append(i+1)\n"
      ]
    },
    {
      "cell_type": "code",
      "execution_count": null,
      "metadata": {
        "colab": {
          "base_uri": "https://localhost:8080/"
        },
        "id": "h_eVJ2oVizVC",
        "outputId": "c15a9f4a-db3b-4e7d-9238-b60f5d3e99a1"
      },
      "outputs": [
        {
          "name": "stdout",
          "output_type": "stream",
          "text": [
            "[0.37647645270119207, 0.9193635016437979, 0.47043918221333075, 0.1264659265319787, 0.06091683142907535, 0.05595233547787075, 0.05711506449879591, 0.05670525317645104, 0.08349394889789395, 0.06860114915162924, 0.07960324447580852, 0.08994027672700652, 0.10310586428718184, 0.10995635942074865, 0.13715121004384795, 0.11531526240718637, 0.16867129387273125, 0.15648826828355572, 0.08869637653576128, 0.105599346898038, 0.09965064505144205, 0.09901006754182325, 0.0955487538401971, 0.09323121831764272, 0.09237978676081904, 0.08459229343497952, 0.08914137250560192, 0.08852144056099322, 0.08232904379057857, 0.07932822010537388, 0.07680151872559728, 0.07550232191893098, 0.0722866966701207, 0.07008637188472311, 0.06874857591723514, 0.0656669822595434, 0.06547931205046549, 0.06478026625336597, 0.05980353661176114, 0.05774278319332648, 0.05466172098790754, 0.05239022531186471, 0.05546697831805149, 0.05909008451711008, 0.05063294403565217, 0.05183804378342722, 0.04941981250519307, 0.05363201734073611, 0.06543443698264725, 0.07507006709144073, 0.053678909311444006, 0.06108096419753152, 0.053133605940670084, 0.054364986062694416, 0.05529093436220838, 0.05466524511140084, 0.05419283075763844, 0.06206322342861485, 0.05587488938656284, 0.06954828089101606, 0.07404313485450423, 0.08159340223736963, 0.055559432637082934, 0.06496367228397475, 0.057678489000889094, 0.052383070925694615, 0.058049858479086315, 0.05412194578355395, 0.05709825472979383, 0.0536060630631704, 0.055383649116378504, 0.05546612825904058, 0.04785486105813857, 0.050175796288896166, 0.059293263581474714, 0.06811733201927424, 0.06942078828285288, 0.0671826924622328, 0.073690524714131, 0.0561689186426567, 0.05234005698678381, 0.05134527933916863, 0.05109872724095958, 0.04922381240300991, 0.051398108351896545, 0.048218656460627306, 0.04667326030729935, 0.050536303136303404, 0.042096303093823985, 0.05329047093955781, 0.046505163062202926, 0.05114427378302389, 0.0570307602873319, 0.04790191717890746, 0.04654770540704066, 0.045236042220713, 0.04941228495060927, 0.04314551149217824, 0.050554994159706414, 0.04148753357179578, 0.04566051251350425, 0.04351616987292092, 0.04830013284647565, 0.04404093194293185, 0.045134745443111954, 0.044471656433128136, 0.046463981309380925, 0.04247657395737708, 0.043959721221273985, 0.04478027192945265, 0.04197246649945603, 0.041095414857427966, 0.045311802832538786, 0.038796752946399546, 0.04396106179331086, 0.04311360980326644, 0.04935739716632843, 0.06677777534277039, 0.06348393400538356, 0.06000628276361314, 0.07091324473246279, 0.050300455508080814, 0.04900482493342332, 0.04679134518122507, 0.03975542300796619, 0.042123693078850465, 0.03736038839201324, 0.04242155348826582, 0.03930893468344522, 0.04430453906133413, 0.044538808381329835, 0.043596105075584014, 0.041089436830338076, 0.0417959431409082, 0.046774688816587945, 0.04215349230251969, 0.03983921260067111, 0.03831384753599699, 0.041904397921161636, 0.04206368302416331, 0.043082857961690785, 0.040312892782641066, 0.042854586961641156, 0.048440023303667284, 0.043671314338891695, 0.06402155808981173, 0.06149341963202251, 0.060212336253540694, 0.06720651011814964, 0.04596527476415036, 0.040070357757493534, 0.04218419698684132, 0.03943749975280556, 0.042087213572844985, 0.04260598829246286, 0.03981472233164651, 0.03973923370829528, 0.03850685080221367, 0.03827493776862757, 0.03833920042927515, 0.036545109873040146, 0.03796175127950093, 0.038381716121627565, 0.039438000194781705, 0.03991579046905038, 0.036866435317310084, 0.03889828821035862, 0.03821612401870835, 0.03721187066170704, 0.03534297369142947, 0.038215658477547064, 0.0370076984281112, 0.03965798321697163, 0.03680535790264297, 0.036505048881237394, 0.038115304908504934, 0.03864640590128784, 0.038700356303798644, 0.03943755689285881, 0.03532888566632892, 0.0371521147930606, 0.039030793166328466, 0.037386820977444155, 0.03685865306705959, 0.036077822209950206, 0.035036445557590466, 0.033894161863977354, 0.03825308760635659, 0.03810526781356715, 0.034294555434072636, 0.037079750133273595, 0.03638378621505442, 0.035727568503500264, 0.03576858896510374, 0.03452911817711512, 0.03343694768232381, 0.03377336227882653, 0.033609612174169745, 0.03693021069628781, 0.037801428445038456, 0.03435986475481521, 0.03559077249070879, 0.03503607801578697, 0.03639243162768851, 0.033012424397543184, 0.03237320742694187, 0.03572661921460876, 0.03641981469007593, 0.03164733115209246, 0.038094914113143426, 0.03763393397915425, 0.03337270978876778, 0.03781098406511948, 0.03471781864646136, 0.03478908281364846, 0.03439160829270373, 0.034714524155083124, 0.035010188817070804, 0.03401439945395752, 0.03259206705660855, 0.03170671057766559, 0.03366798205719903, 0.03220337147613048, 0.03423825305493022, 0.03658833976571272, 0.032394110683167644, 0.03599293949872389, 0.03492019758053929, 0.03338083780154647, 0.0339843111107274, 0.033664595994734495, 0.03313467059392878, 0.033587134419758156, 0.033376648373887374, 0.03261593058909464, 0.032741242836564634, 0.03235505020068928, 0.03234782147223162, 0.032377913369392025, 0.032385819200232056, 0.03207171495334661, 0.03372817826032482, 0.03294167696726657, 0.032751521834270846, 0.031665594591120685, 0.03174205610386064, 0.03412118653020784, 0.033210409842417424, 0.031237866355022726, 0.03138580030458301, 0.03304393393842137, 0.03063616475455715, 0.031210582985607273, 0.031074771436681695, 0.03375460636971753, 0.03144269112736558, 0.033451636339777505, 0.031951454619766916, 0.032798213777796084, 0.03282957398647396, 0.03161896328443996, 0.032091343433546644, 0.031998970047406115, 0.03228908093009707, 0.03198247072734327, 0.03164386104036593, 0.031389060052767176, 0.0312230456062267, 0.031382845535915485, 0.03125878607679874, 0.03139471869518478, 0.030390261921757908, 0.030073538785348717, 0.029472838600131532, 0.029271316459677524, 0.030577641511811124, 0.02894006965036939, 0.028371566741690873, 0.02876709357287687, 0.028280505400442576, 0.028471836751906326, 0.029140891655526205, 0.02985019459429118, 0.0284703104398078, 0.028275494080670142, 0.028164712322901183, 0.029342902137616752, 0.028022668423184446, 0.027880837868720882, 0.028383670110794883, 0.028331271486233243, 0.02707983788695554, 0.028353486942042996, 0.028035937820980256, 0.02675947298681868, 0.027669809557068787, 0.027353271613681496, 0.027311635207718062, 0.026206734418638567, 0.02764213508245681, 0.02618833755336039, 0.02772296259176325, 0.026367212232905602, 0.02754640859488474, 0.02622213921086935, 0.02735681551065278, 0.026623053385528304, 0.025701736793803668, 0.027034346518531056, 0.025793299641176614, 0.02621001236484121, 0.026332512249032464, 0.02605179109036845, 0.026340032321959878, 0.025538360331894473, 0.026042654101920356, 0.026118056798993653, 0.025550930957278156, 0.025639800133952822, 0.02602099913074158, 0.025708518287153023, 0.025818564949021558, 0.026021076198378533, 0.025177016136904578, 0.025214763232146758, 0.025822266619912194, 0.025613069631336593, 0.025430692978377405, 0.025644808642804686, 0.025531029887117612, 0.025524667630907567, 0.02500114911314852, 0.025216065942190988, 0.02541039483313453, 0.025158009203548683, 0.024919272480709298, 0.025407094428895636, 0.02511132222195572, 0.025308101309482335, 0.024771946395692225, 0.024992829702067388, 0.02464392275433156, 0.024986192649867532, 0.024051347887157966, 0.0244345385482754, 0.024352855289666443, 0.024376709296593593, 0.02429916916259273, 0.024823739273398652, 0.024054234568175743, 0.024172431026699706, 0.023960646685808894, 0.02415237739042951, 0.023767502355296247, 0.024107888298537782, 0.023717808641851166, 0.023785778192301182, 0.0242173269157814, 0.024128956734622672, 0.023920925249709468, 0.023819822118525548, 0.02394292064542574, 0.023705234251374867, 0.02370699426747295, 0.023500708527002, 0.02354159848210318, 0.02334363885207165, 0.023585278792155752, 0.022995946221369967, 0.023543668787912014, 0.023212644718283354, 0.023030048544178505, 0.024298528146897456, 0.02398309473521197, 0.023320836758832588, 0.02397765487667524, 0.024308761237973712, 0.023346403094758855, 0.02367273057850616, 0.024495720772896065, 0.024215794544322034, 0.023900275711832907, 0.023837828676007148, 0.024131897085060455, 0.023821415229595043, 0.02349143810507572, 0.023488664859756373, 0.023648030603735107, 0.023452824430119944, 0.02363402633056567, 0.023204643703177118, 0.023438661118714826, 0.02331700818089928, 0.023132894145839474, 0.022811981952587365, 0.022777584633871265, 0.022779669853969897, 0.022693341297084148, 0.02280139184827876, 0.022471236945212386, 0.022698372248371908, 0.022915465202401446, 0.023134778946803932, 0.022771244218208506, 0.022698487094349958, 0.022444464889194795, 0.02236084930199609, 0.022722262872540637, 0.022825433982075153, 0.023008229222243274, 0.022609118979701418, 0.02264060174734139, 0.022322532173263066, 0.02231541423297106, 0.022635062956500876, 0.022743062653363594, 0.02293595320664206, 0.022484384636991123, 0.022560472344862498, 0.022383472780774887, 0.022238715878787695, 0.022429077273545633, 0.022276188066740504, 0.022467021279823796, 0.022255501532752943, 0.0225227902087743, 0.02195346541074844, 0.022306374696454336, 0.021972812469701678, 0.022480689902422014, 0.022516287011522185, 0.02202457272460547, 0.0223499364449097, 0.021944760581100713, 0.0223057236003408, 0.02199568741089572, 0.02230205397749132, 0.022427878367688024, 0.02243943785513857, 0.022199803439064362, 0.022133680370914448, 0.022126470909077985, 0.022040740134031695, 0.02212638687659955, 0.02191692312245136, 0.02273244314096219, 0.021874126369881744, 0.02238178759251443, 0.022264262712348562, 0.021899667863943928, 0.022233957898549005, 0.022327313020725926, 0.022370924904632678, 0.021749300487278425, 0.02183568191826601, 0.022553802159686685, 0.021912992823382767, 0.021887270621343147, 0.02176061877586997, 0.02219080147153882, 0.021731072472130596, 0.022205370917310636, 0.0217037210814912, 0.021993238276668124, 0.021484631709088434, 0.021824618460478836, 0.022480088914664315, 0.021538182670245685, 0.02249814515626524, 0.021514198914798298, 0.022186278118576926, 0.021832349688768713, 0.022273791278351194, 0.0215812047574823, 0.022191759176689602, 0.021479854254399015, 0.023088602921494155, 0.021585508735525553, 0.021473289948842393, 0.022226806665029804, 0.021965905866629172, 0.021548525431957035, 0.021965204168767464, 0.021479548408771827, 0.021994771950039356, 0.02148828972109315, 0.02196239513786585, 0.02149016782745051, 0.02277413192540824, 0.02182656591340194, 0.021461865256007587, 0.021888703209581886, 0.021361463948875583, 0.021796878221191474, 0.021344711542616444, 0.022592410325711625, 0.021931274895384198, 0.021496577636287227, 0.021780380083828862, 0.021493293579007124, 0.021919249367746495, 0.021514155835439072, 0.022505293237322723, 0.02183968296512468, 0.021538550172636693, 0.021911474238844056, 0.02152595983810118, 0.022528721319195182, 0.022417934836638093, 0.022222279064540648, 0.022000922854452733, 0.022161341387756116, 0.02152584328561091, 0.021827526314913026, 0.021764351195164063, 0.021738102841969212, 0.02193917125971382, 0.02163762138633809, 0.02202289464698506, 0.021618910530081383, 0.022636515283743094, 0.022597059278468345, 0.021785502311451287, 0.021460723480716, 0.02244941821333765, 0.02179091136431557, 0.021554266370553948, 0.022404085193044446, 0.02184169357019654, 0.021522542796442112, 0.022324191312487633, 0.022406352328948956, 0.02243593571205901, 0.021415393677794763, 0.02232010627141097, 0.022240344619910975, 0.0222298731127814, 0.021916561950039274, 0.022012276181725993, 0.021935739542936383, 0.021616012987532282, 0.02202521016061379, 0.02141273809811821, 0.022500434322107767, 0.021943954730594604, 0.02132207110191303, 0.022318997046785274, 0.022349268129444745, 0.02195040337452997, 0.02126923503229101, 0.022291414208343664, 0.022499398325352946, 0.021966923292295732, 0.021838252914458768, 0.0219346585725641, 0.02157699906888574, 0.021948430535904402, 0.021382214299957646, 0.022391271201633117, 0.02160941274956072, 0.02124013752454157, 0.022167074485520105, 0.021986497440350968, 0.021900631021442785, 0.021970911309433343, 0.02172259340138429, 0.021459190905839937, 0.022186347629614557, 0.021739681141243073, 0.021391601865906475, 0.02214090020128566, 0.0222026065791109, 0.022163740988232494, 0.02220531494999371, 0.02176126259420045, 0.021551224489899334, 0.02149660075318149, 0.022342566268004155, 0.022009813883791914, 0.022100093007041532, 0.02187548678032781, 0.02148558549221815, 0.021544087751374612, 0.021827676691977698, 0.021438645717925763, 0.02221831190518928, 0.022302833914579327, 0.02234426059613202, 0.02149538021902377, 0.02139175984259303, 0.022774929656011397, 0.022313632034274493, 0.022157011976668313, 0.022128743886137812, 0.021865700826102296, 0.021758020769292803, 0.02161196362619324, 0.021343922540355973, 0.02224329351039804, 0.021585321821408106, 0.021254330091265535, 0.022230887735843273, 0.02199303704039392, 0.022464663848687418, 0.021874327423594877, 0.021973723097836396, 0.02200595253955245, 0.02178637018566104, 0.02136937427327914, 0.022146704659203164, 0.02203584015909394, 0.021969689399521583, 0.021288190203858602, 0.02229926122757285, 0.022052808460442934, 0.022470146954031454, 0.02185949919405023, 0.02193164127264224, 0.021846457664482125, 0.02171513796152937, 0.021292102751335494, 0.0220939072104261, 0.02157941575542999, 0.021147751948864552, 0.022057490875251315, 0.0220781288682157, 0.022275901289053365, 0.022348604838056972, 0.021966412767769592, 0.021855213622914357, 0.0217562654722764, 0.021309597426868183, 0.021363978919999548, 0.021992748188808118, 0.021718032519320446, 0.021260382941431802, 0.022042395856455756, 0.021725089280879375, 0.02184358356997907, 0.022041620681702023, 0.02184737337893822, 0.021840689554769747, 0.021663094204411495, 0.02162193467186689, 0.021328281558175337, 0.022140939575161642, 0.021493398519894062, 0.021129324796465603, 0.02179256164677146, 0.02193282032691217, 0.021857066078806338, 0.021217448077568975, 0.02195586005900351, 0.022047598912712397, 0.022508550425988268, 0.022097895859564003, 0.022179075204366745, 0.021722231199311576, 0.021143508165982733, 0.02187327155749188, 0.021830232288643305, 0.021852467013505916, 0.021065711287271346, 0.02203891563274758, 0.0220521766854021, 0.022199599428396416, 0.021011657155285225, 0.02271177158980565, 0.02240424870721721, 0.022108263672361655, 0.0222410924262349, 0.02198954586220089, 0.022208556860986235, 0.021730410088494204, 0.022034847634580045, 0.0219445847631313, 0.022343381483090306, 0.021836053072568928, 0.021737861003904006, 0.02090441074456119, 0.021859718616491663, 0.021880542967676785, 0.02167881502620073, 0.02196962430364324, 0.02182696036031, 0.021598034692894674, 0.02086787706588118, 0.02157699002418047, 0.02208579250277841, 0.021500360153732002, 0.021735696370824648, 0.020838652758201064, 0.0216232062125336, 0.02167292102208008, 0.021729023746059156, 0.02173117358273756, 0.021550160842111664, 0.020753705611321067, 0.021689051047254305, 0.0215700117969981, 0.021613735979376093, 0.021493927786756923, 0.021719235228698373, 0.021784482073250788, 0.02138830980959385, 0.020651872872785398, 0.02146373785173057, 0.021484443867565227, 0.021583445901123873, 0.021604182563668403, 0.021365192619756387, 0.020634106938378895, 0.02149327163601288, 0.021250492120632947, 0.021702048983964987, 0.021550753579481642, 0.021723352601627274, 0.021339006416534304, 0.02133625939414184, 0.020605074003471675, 0.02052711526354311, 0.021496841510712697, 0.02153023351948748, 0.02111571689624065, 0.021409854701614606, 0.021411184469403658, 0.021612178415294836, 0.021164261499389703, 0.021501002065523772, 0.02134426692017604, 0.02156471044953866, 0.021179157230975566, 0.021632678203210916, 0.021302930313043738, 0.021531687010641398, 0.020956099349569, 0.020901471847258695, 0.021236548622838494, 0.021210248813274192, 0.02110988853320527, 0.020587565325606356, 0.021409780123986782, 0.02124586723440018, 0.02136069005249323, 0.021199537817809398, 0.021412751725192806, 0.02126932318567222, 0.02115852194343694, 0.02058153078103542, 0.021278680867360882, 0.02114539628591745, 0.021486283760268374, 0.02121031143151231, 0.021296103472534224, 0.021151556911503968, 0.021019554079002276, 0.02106606457207753, 0.02053754064660761, 0.021230556892340068, 0.021164936055604718, 0.021326642270767793, 0.02120898127616253, 0.021220513124527534, 0.021186188113743887, 0.02100234783273353, 0.020525021178017456, 0.021298272432928547, 0.02113374749174835, 0.021242841676663692, 0.021077758141891202, 0.021028390502026876, 0.02129048507421636, 0.020902511242978317, 0.021334748688839094, 0.021058442017636868, 0.02129705336382941, 0.02103405760844889, 0.02094716823546899, 0.020390306126535123, 0.02123722865877897, 0.02100945112156113, 0.021168202484227502, 0.02098868955486137, 0.021252212333834106, 0.020979216219080676, 0.020978648903501634, 0.020350384342626936, 0.021042354924887586, 0.020155397895752773, 0.021300577750021202, 0.02111198320502208, 0.020884452392214946, 0.020743621806250268, 0.020962105655630194, 0.020835915621215815, 0.02107792422536583, 0.02083702941514366, 0.020953551383693512, 0.020828932097939047, 0.021146706480458945, 0.02083253991263813, 0.020725279321640824, 0.02090955192476754, 0.02087797261458676, 0.02071570769048718, 0.020269869248500418, 0.02088551591467096, 0.020847143312494546, 0.021056396007915482, 0.020745550608655135, 0.02071557147045002, 0.02028112810414122, 0.020843502119926773, 0.020768837575429414, 0.020968701686878848, 0.020733166859230417, 0.020650405012190835, 0.020513547630530354, 0.02028840949501149, 0.02074145410290414, 0.020711480290492183, 0.020629880367901636, 0.020228669854122198, 0.020636204983757813, 0.02031679522623835, 0.020548332365501958, 0.02071032906975685, 0.020448484312186422, 0.020230878592316266, 0.020711157581058154, 0.020660124488799704, 0.0209519926139691, 0.02066535656372911, 0.020471055321870706, 0.020210781979800883, 0.020800372747944697, 0.02063835486799623, 0.020993902102928483, 0.020684447877980777, 0.02054508615500887, 0.020211365222315217, 0.02078790437967582, 0.020592197258022995, 0.020857644864647536, 0.020623430845268343, 0.019763484125426854, 0.021057854686988224, 0.020833642227106652, 0.020504838751025864, 0.020888690507117266, 0.02053573449724367, 0.02101365589566655, 0.020587958867816177, 0.02074860265967973, 0.02058204463959015, 0.020590244237241262, 0.0202771606380629, 0.02013616865156453, 0.020677482763940436, 0.02058731846639435, 0.02035276949478912, 0.02013103271879694, 0.020608267212619706, 0.020608904922119694, 0.020907619693136183, 0.02058047217601292, 0.01946566534732403, 0.020541226415621453, 0.020531865892436562, 0.02087525373541345, 0.020581136547993376, 0.020883987691232737, 0.02067336443440869, 0.020811581202588643, 0.020541913207020344, 0.020901191347609472, 0.020570645564008665, 0.020495248619929962, 0.020704512644760743, 0.02053725604013641, 0.020308909622203608, 0.02007180518975044, 0.02064342558550531, 0.020474129057079928, 0.020681547851194717, 0.02073485610812104, 0.020223406223810178, 0.020040217342901737, 0.020588713535506287, 0.020552299733804534, 0.020721893094371144, 0.020332343767912063, 0.020350199965806573, 0.020171464897680527, 0.02005750207419525, 0.02037828464233699, 0.020487709199413947, 0.02064530758702771, 0.020398705712130573, 0.02019001187885329, 0.0200173217102308, 0.020564576117400545, 0.01963130152881441, 0.02079015048885855, 0.020474255932106375, 0.02037686899038024, 0.0202885860102907, 0.020379825031490433, 0.02043119083863162, 0.02067747746033609, 0.02028147458246779, 0.020590670017462682, 0.020448912795631644, 0.020095984749270976, 0.01998464598898093, 0.020485567381158212, 0.020372118263706652, 0.02068876366482823, 0.020349134752056, 0.020311570258320883, 0.019983972286212178, 0.019969904167419845, 0.020457641026112694, 0.020405017172968287, 0.020448443198280552, 0.02018703635531206, 0.020376041109874638, 0.020020620962193352, 0.020048515992365044, 0.020307712670347342, 0.02032565734272032, 0.020587001102577114, 0.020267650761196975, 0.020338425873435675, 0.0198882230924679, 0.020011345189231762, 0.020188971199634892, 0.02036725782160704, 0.02007901768651921, 0.01997502199718427, 0.02021784498376763, 0.020266189847723895, 0.020523841025980077, 0.020287245647140108, 0.020177527722792864, 0.019250091680667023, 0.020320851965088503, 0.020132803966388044, 0.020249558658011348, 0.020524439000381093, 0.020353419244156963, 0.020734274080198137, 0.02034886030840118, 0.02051031593232782, 0.020302182053081784, 0.02053435699736049, 0.02032295021034106, 0.020606058954105635, 0.020304695348562916, 0.020575654955203155, 0.020339454395947573, 0.020504684451650403, 0.020256304444586617, 0.020552440460177932, 0.02027112591295425, 0.020609837805859805, 0.020307831218522206, 0.020536244838921507, 0.01979603564369004, 0.02012378392415072, 0.02014150575039206, 0.020576887176718437, 0.020203413426643668, 0.02040349709048695, 0.020267651433885408, 0.02000963461309689, 0.019873097781945428, 0.020143197218169404, 0.02005039264414515, 0.020501713005285194, 0.02015568803395251, 0.01986787894242663, 0.019869331798547135, 0.02024051954268887, 0.01994216280846218, 0.020095383156216087, 0.019820512173544864, 0.019841425616486472, 0.019984254028506128, 0.020244228260186566, 0.020320879656655477, 0.020101056833263138, 0.01980528712135523, 0.019850788943452616, 0.020050826398530532, 0.020043182959997984, 0.0202154637636108, 0.020215973056598408, 0.019900701816631124, 0.019849474226337]\n"
          ]
        }
      ],
      "source": [
        "print(Error)\n"
      ]
    },
    {
      "cell_type": "code",
      "execution_count": null,
      "metadata": {
        "colab": {
          "base_uri": "https://localhost:8080/",
          "height": 472
        },
        "id": "iAXH57z1g1O6",
        "outputId": "f93bbc38-3638-41c6-d5da-29897b68603c"
      },
      "outputs": [
        {
          "data": {
            "image/png": "[encoded data removed]",
            "text/plain": [
              "<Figure size 640x480 with 1 Axes>"
            ]
          },
          "metadata": {},
          "output_type": "display_data"
        }
      ],
      "source": [
        "plot_the_curve(indx,Error,0.15)"
      ]
    },
    {
      "cell_type": "code",
      "execution_count": null,
      "metadata": {
        "id": "vf0I5mwYnEvX"
      },
      "outputs": [],
      "source": [
        "ycord=[]\n",
        "for x, y in zip(X_train_list, y_train_list):\n",
        "            # forward\n",
        "\n",
        "            output_khare = predict(network, x)\n",
        "            # print(type(output_khare))\n",
        "            ycord.append(output_khare[0])\n"
      ]
    },
    {
      "cell_type": "code",
      "execution_count": null,
      "metadata": {
        "id": "Q-r5qGDLoOhJ"
      },
      "outputs": [],
      "source": [
        "ap=[]\n",
        "for i in range(len(ycord)):\n",
        "  ap.append(ycord[i][0])"
      ]
    },
    {
      "cell_type": "code",
      "execution_count": null,
      "metadata": {
        "colab": {
          "base_uri": "https://localhost:8080/"
        },
        "id": "MPmQkRnopmYg",
        "outputId": "a47f60fd-2a03-41b9-939a-8cf48b22bea9"
      },
      "outputs": [
        {
          "data": {
            "text/plain": [
              "list"
            ]
          },
          "execution_count": 194,
          "metadata": {},
          "output_type": "execute_result"
        }
      ],
      "source": [
        "type(ap)"
      ]
    },
    {
      "cell_type": "code",
      "execution_count": null,
      "metadata": {
        "colab": {
          "base_uri": "https://localhost:8080/",
          "height": 718
        },
        "id": "fxl-WzANo8wz",
        "outputId": "8efd0789-be3b-4bec-900e-44e7160910f2"
      },
      "outputs": [
        {
          "data": {
            "image/png": "[encoded data removed]",
            "text/plain": [
              "<Figure size 1200x800 with 1 Axes>"
            ]
          },
          "metadata": {},
          "output_type": "display_data"
        }
      ],
      "source": [
        "plt.figure(figsize=(12, 8))\n",
        "# plt.scatter(tdata,xobs, label='Measured Value')\n",
        "plt.scatter(X_train_list,ap,linewidth=0.1,color='red',label='Predicted Value')\n",
        "plt.plot(data,target,linewidth=1.5,color='blue',label='Calculated Value')\n",
        "plt.legend()\n",
        "\n",
        "plt.title(\"Displacement v/s Time for underdamped system\")\n",
        "plt.xlabel(\"Time in seconds\")\n",
        "plt.ylabel(\"Displacement\")\n",
        "plt.show()"
      ]
    },
    {
      "cell_type": "markdown",
      "metadata": {
        "id": "yYS0rM97A2di"
      },
      "source": [
        "###with polynomial regression"
      ]
    },
    {
      "cell_type": "code",
      "execution_count": null,
      "metadata": {
        "id": "LZFGqEKm7BKM"
      },
      "outputs": [],
      "source": [
        "import numpy as np\n",
        "import matplotlib.pyplot as plt\n",
        "\n",
        "from sklearn.model_selection import train_test_split\n",
        "\n",
        "from sklearn.linear_model import LinearRegression,SGDRegressor\n",
        "\n",
        "from sklearn.preprocessing import PolynomialFeatures,StandardScaler\n",
        "\n",
        "from sklearn.pipeline import Pipeline\n",
        "\n",
        "import random"
      ]
    },
    {
      "cell_type": "code",
      "execution_count": null,
      "metadata": {
        "id": "yHF6Lja1A7vs"
      },
      "outputs": [],
      "source": [
        "K = 20  # N/m\n",
        "M = 2  # kg\n",
        "c = 2  # N·s/m\n",
        "\n",
        "# Define the true displacement function\n",
        "# function of underdamped condition taken from \"https://math.libretexts.org/Bookshelves/Linear_Algebra/Book%3A_Matrix_Analysis_(Cox)/10%3A_The_Matrix_Exponential/10.06%3A_The_Mass-Spring-Damper_System\"\n",
        "# value of d was calculated to be 6i for given values of K,m,c. So |d| is 6.\n",
        "def true_displacement(t):\n",
        "    return np.exp(-c*t)*(np.cos(6*t)+c*6*np.sin(6*t))\n",
        "\n",
        "n_samples = 100\n",
        "X = np.linspace(0, 5,n_samples).reshape(100, 1)\n",
        "y = true_displacement(X) #+ np.random.randn(n_samples,1)*0.5\n"
      ]
    },
    {
      "cell_type": "code",
      "execution_count": null,
      "metadata": {
        "colab": {
          "base_uri": "https://localhost:8080/",
          "height": 449
        },
        "id": "c9rh9PljBAwa",
        "outputId": "ff51d2b5-f98c-4b16-91e6-172900be7d72"
      },
      "outputs": [
        {
          "data": {
            "image/png": "[encoded data removed]",
            "text/plain": [
              "<Figure size 640x480 with 1 Axes>"
            ]
          },
          "metadata": {},
          "output_type": "display_data"
        }
      ],
      "source": [
        "plt.plot(X, y,'b.')\n",
        "plt.xlabel(\"X\")\n",
        "plt.ylabel(\"y\")\n",
        "plt.show()"
      ]
    },
    {
      "cell_type": "code",
      "execution_count": null,
      "metadata": {
        "id": "K6jByR49BS_u"
      },
      "outputs": [],
      "source": []
    },
    {
      "cell_type": "code",
      "execution_count": null,
      "metadata": {
        "id": "gaIm57i6BIMj"
      },
      "outputs": [],
      "source": [
        "# Train test split\n",
        "X_train,X_test,y_train,y_test = train_test_split(X,y,test_size=0.2,random_state=2)"
      ]
    },
    {
      "cell_type": "code",
      "execution_count": null,
      "metadata": {
        "id": "lsQGr0GZBURU"
      },
      "outputs": [],
      "source": [
        "poly = PolynomialFeatures(degree=15)\n",
        "\n",
        "X_train_trans = poly.fit_transform(X_train)\n",
        "X_test_trans = poly.transform(X_test)"
      ]
    },
    {
      "cell_type": "code",
      "execution_count": null,
      "metadata": {
        "id": "wuyvPOd_BKD0"
      },
      "outputs": [],
      "source": [
        "def polynomial_regression(degree):\n",
        "    X_new=np.linspace(-1, 5, 100).reshape(100, 1)\n",
        "    X_new_poly = poly.transform(X_new)\n",
        "\n",
        "    polybig_features = PolynomialFeatures(degree=degree, include_bias=False)\n",
        "\n",
        "    lin_reg = LinearRegression()\n",
        "    polynomial_regression = Pipeline([\n",
        "            (\"poly_features\", polybig_features),\n",
        "\n",
        "            (\"lin_reg\", lin_reg),\n",
        "        ])\n",
        "    polynomial_regression.fit(X, y)\n",
        "    y_newbig = polynomial_regression.predict(X_new)\n",
        "    plt.plot(X_new, y_newbig,'r', linewidth=2)\n",
        "\n",
        "    plt.plot(X_train, y_train, \"b.\", linewidth=3)\n",
        "    plt.plot(X_test, y_test, \"g.\", linewidth=3)\n",
        "    plt.xlabel(\"X\")\n",
        "    plt.ylabel(\"y\")\n",
        "    plt.axis([0, 5, -5, 10])\n",
        "    plt.show()"
      ]
    },
    {
      "cell_type": "code",
      "execution_count": null,
      "metadata": {
        "colab": {
          "base_uri": "https://localhost:8080/",
          "height": 455
        },
        "id": "STV862h1BL40",
        "outputId": "e2506ac7-93df-41d2-e4de-1f26e03d3c68"
      },
      "outputs": [
        {
          "data": {
            "image/png": "[encoded data removed]",
            "text/plain": [
              "<Figure size 640x480 with 1 Axes>"
            ]
          },
          "metadata": {},
          "output_type": "display_data"
        }
      ],
      "source": [
        "polynomial_regression(12)"
      ]
    },
    {
      "cell_type": "code",
      "execution_count": null,
      "metadata": {
        "id": "F54XVx_EBVIg"
      },
      "outputs": [],
      "source": []
    }
  ],
  "metadata": {
    "colab": {
      "provenance": []
    },
    "kernelspec": {
      "display_name": "Python 3",
      "name": "python3"
    },
    "language_info": {
      "name": "python"
    }
  },
  "nbformat": 4,
  "nbformat_minor": 0
}